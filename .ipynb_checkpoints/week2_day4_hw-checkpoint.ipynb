{
 "cells": [
  {
   "cell_type": "markdown",
   "id": "e0908bc0",
   "metadata": {},
   "source": [
    "# Homework Exercises\n"
   ]
  },
  {
   "cell_type": "markdown",
   "id": "1517a6d3",
   "metadata": {},
   "source": [
    "## Exercise 1 <br>\n",
    "<p>Given a list as a parameter,write a function that returns a list of numbers that are less than ten</b></i></p><br>\n",
    "<p> For example: Say your input parameter to the function is [1,11,14,5,8,9]...Your output should [1,5,8,9]</p>"
   ]
  },
  {
   "cell_type": "code",
   "execution_count": 1,
   "id": "70f0ca95",
   "metadata": {},
   "outputs": [
    {
     "name": "stdout",
     "output_type": "stream",
     "text": [
      "[1, 5, 8, 9]\n"
     ]
    }
   ],
   "source": [
    "# Use the following list - [1,11,14,5,8,9]\n",
    "\n",
    "l_1 = [1,11,14,5,8,9]\n",
    "\n",
    "def less_than_ten(arr):\n",
    "    l_1 = []\n",
    "    for i in arr:\n",
    "        if i < 10 :\n",
    "            l_1.append(i)\n",
    "    return l_1\n",
    "\n",
    "print(less_than_ten(l_1))"
   ]
  },
  {
   "cell_type": "markdown",
   "id": "5e07698b",
   "metadata": {},
   "source": [
    "## Exercise 2 <br>\n",
    "<p>Write a function that takes in two lists and returns the two lists merged together and sorted<br>\n",
    "<b><i>Hint: You can use the .sort() method</i></b></p>"
   ]
  },
  {
   "cell_type": "code",
   "execution_count": 2,
   "id": "22c52240",
   "metadata": {},
   "outputs": [
    {
     "name": "stdout",
     "output_type": "stream",
     "text": [
      "[1, 2, 3, 3, 4, 4, 5, 5, 6, 6, 7, 8, 10]\n"
     ]
    }
   ],
   "source": [
    "l_1 = [1,2,3,4,5,6]\n",
    "l_2 = [3,4,5,6,7,8,10]\n",
    "\n",
    "def merged(arr1,arr2):\n",
    "    arr1.extend(arr2)\n",
    "    arr1.sort()\n",
    "    return arr1\n",
    "\n",
    "print(merged(l_1,l_2))"
   ]
  },
  {
   "cell_type": "markdown",
   "id": "fa7e3372",
   "metadata": {},
   "source": [
    "## Exercise 3 <br>\n",
    "<p>Create a function which given an array of integers, return an array, where the first element is the count of\n",
    "positives numbers and the second element is sum of negative numbers. 0 is neither positive nor negative.\n",
    "If the input array is empty or null, return an empty array.</p><br>\n"
   ]
  },
  {
   "cell_type": "code",
   "execution_count": 3,
   "id": "70e55eb4",
   "metadata": {},
   "outputs": [
    {
     "name": "stdout",
     "output_type": "stream",
     "text": [
      "[5, -164]\n"
     ]
    }
   ],
   "source": [
    "arr = [2, -4, 5, 3, 12, -104, -56, 27, 0]\n",
    "\n",
    "def int_array(arr):\n",
    "    l_1 = []\n",
    "    n_sum = 0\n",
    "    p_count = 0\n",
    "    for i in arr:\n",
    "        if i < 0:\n",
    "            n_sum += i\n",
    "        elif i > 0:\n",
    "            p_count += 1\n",
    "            \n",
    "    if p_count > 0 or n_sum < 0:\n",
    "        l_1.append(p_count)\n",
    "    if n_sum < 0:\n",
    "        l_1.append(n_sum)\n",
    "        \n",
    "    return l_1\n",
    "\n",
    "print(int_array(arr))"
   ]
  },
  {
   "cell_type": "markdown",
   "id": "132401c7",
   "metadata": {},
   "source": [
    "## Exercise 4 <br>\n",
    "<p>Create a function that returns the sum of the two lowest positive numbers given\n",
    "an array of minimum 4 positive integers. No floats or non-positive integers will be passed.</p>"
   ]
  },
  {
   "cell_type": "code",
   "execution_count": 4,
   "id": "a77501cf",
   "metadata": {},
   "outputs": [
    {
     "name": "stdout",
     "output_type": "stream",
     "text": [
      "26\n"
     ]
    }
   ],
   "source": [
    "pos_arr = [6, 20, 48, 96, 109, 10034]\n",
    "\n",
    "def l_two(arr):\n",
    "    min_sum = 0\n",
    "    min_sum = min(arr)\n",
    "    arr.remove(min(arr))\n",
    "    min_sum += min(arr)\n",
    "    return min_sum\n",
    "\n",
    "print(l_two(pos_arr))"
   ]
  },
  {
   "cell_type": "markdown",
   "id": "86b06969",
   "metadata": {},
   "source": [
    "## Exercise 5 <br>\n",
    "<p>Write a function that when given a list of items will return the \n",
    "item that appears the most times in the list. \n",
    "If two or more items appear the same amount of times, output all items in a list.\n",
    "\n",
    "Example Input = ['Orange', 'Apple', 'Bear', 3, 7, 'Tree', 'Orange', 'Tree']\n",
    "Example Out = ['Orange', 'Tree']\n",
    "\n",
    "#Hint (a counter dictionary might be helpful)</p>"
   ]
  },
  {
   "cell_type": "code",
   "execution_count": 5,
   "id": "4ac92283",
   "metadata": {},
   "outputs": [
    {
     "data": {
      "text/plain": [
       "['Orange', 'Tree']"
      ]
     },
     "execution_count": 5,
     "metadata": {},
     "output_type": "execute_result"
    }
   ],
   "source": [
    "l_1 = ['Orange', 'Apple', 'Bear', 3, 7, 'Tree', 'Orange', 'Tree']\n",
    "\n",
    "def list_count(arr):\n",
    "    l_max = []\n",
    "    d_1 = {}\n",
    "    for i in arr:\n",
    "        if i not in d_1:\n",
    "            d_1[i] = 1\n",
    "        else:\n",
    "            d_1[i] += 1\n",
    "            \n",
    "    tempk = str(list(d_1)[0])\n",
    "    tempv = d_1.get(tempk)\n",
    "    \n",
    "    for k,v in d_1.items():\n",
    "        if v > tempv:\n",
    "            tempk = k\n",
    "            tempv = v\n",
    "    l_max.append(tempk)\n",
    "    \n",
    "    for k,v in d_1.items():\n",
    "        if v == tempv:\n",
    "            if k not in l_max:\n",
    "                l_max.append(k)\n",
    "    return l_max\n",
    "\n",
    "list_count(l_1)"
   ]
  },
  {
   "cell_type": "code",
   "execution_count": null,
   "id": "6a6b0f1f",
   "metadata": {},
   "outputs": [],
   "source": []
  }
 ],
 "metadata": {
  "kernelspec": {
   "display_name": "Python 3 (ipykernel)",
   "language": "python",
   "name": "python3"
  },
  "language_info": {
   "codemirror_mode": {
    "name": "ipython",
    "version": 3
   },
   "file_extension": ".py",
   "mimetype": "text/x-python",
   "name": "python",
   "nbconvert_exporter": "python",
   "pygments_lexer": "ipython3",
   "version": "3.9.13"
  }
 },
 "nbformat": 4,
 "nbformat_minor": 5
}
